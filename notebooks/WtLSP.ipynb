{
 "cells": [
  {
   "cell_type": "code",
   "execution_count": null,
   "id": "74bc5a28",
   "metadata": {
    "scrolled": true
   },
   "outputs": [],
   "source": [
    "import numpy as np\n",
    "from astropy.timeseries import LombScargle\n",
    "import matplotlib.pyplot as plt\n",
    "import lightkurve as lk \n",
    "import pandas as pd"
   ]
  },
  {
   "cell_type": "code",
   "execution_count": null,
   "id": "b0e5f444",
   "metadata": {},
   "outputs": [],
   "source": [
    "df_tess = pd.read_hdf(\"../data/tess_data_HD38529.h5\")\n",
    "\n",
    "\n",
    "# read in clean data \n",
    "\n",
    "time = np.array(df_tess.time.values)\n",
    "flux = np.array(df_tess.flux.values)\n",
    "\n",
    "good = np.logical_and(np.isfinite(time), np.isfinite(flux))\n",
    "\n",
    "time = time[good] - np.median(time[good])\n",
    "flux = flux[good] - np.median(flux[good])\n"
   ]
  },
  {
   "cell_type": "code",
   "execution_count": null,
   "id": "85106c67",
   "metadata": {},
   "outputs": [],
   "source": [
    "# plot data \n",
    "\n",
    "fig, ax = plt.subplots(figsize = (14,7))\n",
    "\n",
    "plt.scatter(time, flux, s = 1)\n",
    "\n",
    "plt.title(\"TESS\")\n",
    "plt.xlabel(\"Time (days)\")\n",
    "plt.ylabel(\"Normalized flux\")\n",
    "plt.show()"
   ]
  },
  {
   "cell_type": "code",
   "execution_count": null,
   "id": "44304e6c",
   "metadata": {},
   "outputs": [],
   "source": [
    "# This set of functions does the traditional fitting Hogg loves\n",
    "\n",
    "def _hogg_design_matrix(fs, ts):\n",
    "    assert np.all(fs > 0.)\n",
    "    N = len(ts)\n",
    "    X = np.ones_like(ts)\n",
    "    for f in fs:\n",
    "        X = np.vstack([np.exp(-2.j * np.pi * f * ts), X, np.exp(2.j * np.pi * f * ts)])\n",
    "    return X.T\n",
    "\n",
    "def hogg_traditional_fit(ts, ys, fs):\n",
    "    X = _hogg_design_matrix(fs, ts)\n",
    "    Zs, _, _, _ = np.linalg.lstsq(X, ys, rcond=1e-9) # MAGIC\n",
    "    return Zs\n",
    "\n",
    "def hogg_traditional_synthesize(fs, Zs, ts):\n",
    "    return _hogg_design_matrix(fs, ts) @ Zs\n"
   ]
  },
  {
   "cell_type": "code",
   "execution_count": null,
   "id": "162466d8",
   "metadata": {},
   "outputs": [],
   "source": [
    "def WtLSP_init(time):\n",
    "    fpeaks = np.array([])\n",
    "    ppeaks = np.array([])\n",
    "    deltaf = 0.5/(np.max(time) - np.min(time))\n",
    "    maxf = 0.5 / np.median(time[1:] - time[:-1]) # assumes data are ordered in time\n",
    "    fgrid = np.arange(deltaf, maxf, deltaf)\n",
    "    \n",
    "    return fpeaks, ppeaks, deltaf, fgrid"
   ]
  },
  {
   "cell_type": "code",
   "execution_count": null,
   "id": "ab2c28ee",
   "metadata": {},
   "outputs": [],
   "source": [
    "def parabola_peak(ys, plot= False):\n",
    "    \"\"\"\n",
    "    ## Notes:\n",
    "    - Assumes `ys` is shape `(3, )`\n",
    "    - Assumes data are equally spaced!\n",
    "    \"\"\"\n",
    "    y_minus, y_zero, y_plus = ys\n",
    "    a0 = y_zero\n",
    "    a1 = (y_plus - y_minus) / 2\n",
    "    a2 = y_plus - (2. * y_zero) + y_minus\n",
    "    x_max = -1. * a1 / a2\n",
    "    y_max = a0 + a1 * x_max + 0.5 * a2 * x_max * x_max\n",
    "    \n",
    "    if plot: \n",
    "        print (a0, a1, a2)\n",
    "        plt.scatter(np.arange(3) - 1, ys)\n",
    "        xplot = np.linspace(-1.5,1.5,100)\n",
    "        \n",
    "        plt.plot(xplot,a0 + a1 * xplot + 0.5 * a2 * xplot**2, 'r-')\n",
    "        plt.scatter(x_max, y_max)\n",
    "        \n",
    "        #plt.scatter(fgrid[maxi - 1: maxi + 2], pgrid[maxi - 1: maxi + 2])\n",
    "\n",
    "    return x_max, y_max"
   ]
  },
  {
   "cell_type": "code",
   "execution_count": null,
   "id": "7c6e2d71",
   "metadata": {},
   "outputs": [],
   "source": [
    "def create_fs_horror(fpeaks, deltaf, Khalf=1):\n",
    "    tiny = 1.e-9 # magic\n",
    "    foo = np.concatenate([np.arange(f - Khalf * deltaf, f + (Khalf + 0.5) * deltaf, deltaf) for f in fpeaks])\n",
    "    return foo[foo > tiny]\n",
    "\n",
    "def WtLSP_step(time, flux, resid, fps, pps, deltaf, fgrid, i, maxiter, ax=None):\n",
    "    \n",
    "    #print (time.shape, resid.shape)\n",
    "    pgrid = LombScargle(time, resid).power(fgrid)\n",
    "    \n",
    "    # find the tallest peak \n",
    "    maxi = np.argmax(pgrid)\n",
    "    \n",
    "    if maxi == 0:\n",
    "        fpeaks = np.append(fps, fgrid[0])\n",
    "        ppeaks = np.append(pps, pgrid[0])\n",
    "    else: \n",
    "        dimensionless_shift, p = parabola_peak(pgrid[maxi - 1: maxi + 2])\n",
    "        fpeaks = np.append(fps, fgrid[maxi] + dimensionless_shift * deltaf)\n",
    "        ppeaks = np.append(pps, p)\n",
    "\n",
    "    fs = create_fs_horror(fpeaks, deltaf)\n",
    "    Zs = hogg_traditional_fit(time, flux, fs)\n",
    "    resid = flux - hogg_traditional_synthesize(fs, Zs, time).real\n",
    "\n",
    "    if ax is not None: \n",
    "        # if True:                         # make all plots\n",
    "        if (i == 0) or (i == maxiter - 1): # make only the first and last plot\n",
    "            WtLSP_plot(ax, fgrid, pgrid, i)\n",
    "        \n",
    "    return resid, fpeaks, ppeaks"
   ]
  },
  {
   "cell_type": "code",
   "execution_count": null,
   "id": "573e7668",
   "metadata": {},
   "outputs": [],
   "source": [
    "def WtLSP_plot(ax, fgrid, pgrid, i):\n",
    "    ax.plot(fgrid / 0.0864, pgrid, label = str(i), alpha = 0.5) "
   ]
  },
  {
   "cell_type": "code",
   "execution_count": null,
   "id": "d0e3a4ec",
   "metadata": {},
   "outputs": [],
   "source": [
    "def WtLSP(time, flux, maxiter=5):\n",
    "\n",
    "    fpeaks, ppeaks, deltaf, fgrid = WtLSP_init(time)\n",
    "        \n",
    "    resid = flux.copy()\n",
    "    \n",
    "    fig, ax = plt.subplots(figsize = (14,7))\n",
    "    \n",
    "    for i in range(maxiter):\n",
    "        \n",
    "        resid, fpeaks, ppeaks = WtLSP_step(time, flux, resid, fpeaks, ppeaks,\n",
    "                                           deltaf, fgrid, i, maxiter, ax=ax)\n",
    "        print(ppeaks)\n",
    "    \n",
    "    ax.loglog()\n",
    "    ax.legend()\n",
    "    ax.set_ylim(1.e-4 * np.max(ppeaks), 1.e1 * np.max(ppeaks))\n",
    "    return resid, fpeaks, ppeaks, ax"
   ]
  },
  {
   "cell_type": "code",
   "execution_count": null,
   "id": "924b9aee",
   "metadata": {
    "scrolled": false
   },
   "outputs": [],
   "source": [
    "resid, fpeaks, ppeaks, ax = WtLSP(time, flux, maxiter=15)\n",
    "ax.scatter(fpeaks, ppeaks)"
   ]
  },
  {
   "cell_type": "code",
   "execution_count": null,
   "id": "75258bd0",
   "metadata": {},
   "outputs": [],
   "source": [
    "fig, ax = plt.subplots(figsize = (14,7))\n",
    "plt.scatter(time, flux, s= 1)\n",
    "plt.scatter(time, resid, s= 1)"
   ]
  },
  {
   "cell_type": "code",
   "execution_count": null,
   "id": "d1874362",
   "metadata": {},
   "outputs": [],
   "source": []
  }
 ],
 "metadata": {
  "kernelspec": {
   "display_name": "Python 3 (ipykernel)",
   "language": "python",
   "name": "python3"
  },
  "language_info": {
   "codemirror_mode": {
    "name": "ipython",
    "version": 3
   },
   "file_extension": ".py",
   "mimetype": "text/x-python",
   "name": "python",
   "nbconvert_exporter": "python",
   "pygments_lexer": "ipython3",
   "version": "3.9.12"
  }
 },
 "nbformat": 4,
 "nbformat_minor": 5
}
