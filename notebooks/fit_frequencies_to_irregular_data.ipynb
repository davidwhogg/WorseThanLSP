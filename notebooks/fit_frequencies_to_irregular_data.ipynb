{
  "nbformat": 4,
  "nbformat_minor": 0,
  "metadata": {
    "colab": {
      "provenance": [],
      "authorship_tag": "ABX9TyNHtH3KVrCBpX1Qxgbv/w8g",
      "include_colab_link": true
    },
    "kernelspec": {
      "name": "python3",
      "display_name": "Python 3"
    },
    "language_info": {
      "name": "python"
    }
  },
  "cells": [
    {
      "cell_type": "markdown",
      "metadata": {
        "id": "view-in-github",
        "colab_type": "text"
      },
      "source": [
        "<a href=\"https://colab.research.google.com/github/davidwhogg/WorseThanLSP/blob/main/notebooks/fit_frequencies_to_irregular_data.ipynb\" target=\"_parent\"><img src=\"https://colab.research.google.com/assets/colab-badge.svg\" alt=\"Open In Colab\"/></a>"
      ]
    },
    {
      "cell_type": "markdown",
      "source": [
        "# fit K frequencies to N data points, but fast\n",
        "Making use of the fastness of `finufft`.\n",
        "\n",
        "## Author:\n",
        "- **David W. Hogg** *(NYU) (MPIA) (Flatiron)*\n",
        "\n",
        "## Notes:\n",
        "- This notebook defines `finufft` and `traditional` fitting routines. On test cases with small numbers of frequencies, the traditional methods will be faster. It remains to be seen whether, for large numbers of frequencies, the `finufft` routines are way faster.\n",
        "\n",
        "## Bugs:\n",
        "- Needs to move to GitHub from here.\n",
        "- Barely tested.\n",
        "- None of the code currently makes use of individual data-point uncertainty variances.\n",
        "\n",
        "## To-do items:\n",
        "- Do a full comparison to building a design matrix and fitting as per usual."
      ],
      "metadata": {
        "id": "AA9tj7iYjmFN"
      }
    },
    {
      "cell_type": "code",
      "source": [
        "!pip install finufft"
      ],
      "metadata": {
        "id": "bS_Lo5DIjA8a"
      },
      "execution_count": null,
      "outputs": []
    },
    {
      "cell_type": "code",
      "execution_count": null,
      "metadata": {
        "id": "pHz4YCHaisBh"
      },
      "outputs": [],
      "source": [
        "# essential imports\n",
        "import numpy as np\n",
        "import scipy.sparse.linalg as sp\n",
        "from functools import partial\n",
        "from scipy.fftpack import fftfreq\n",
        "import finufft"
      ]
    },
    {
      "cell_type": "code",
      "source": [
        "# non-essential imports\n",
        "import matplotlib.pyplot as plt"
      ],
      "metadata": {
        "id": "BbyCn4ThfhAe"
      },
      "execution_count": null,
      "outputs": []
    },
    {
      "cell_type": "code",
      "source": [
        "# This set of functions does the traditional fitting Hogg loves\n",
        "\n",
        "def _hogg_design_matrix(fs, ts):\n",
        "    assert np.all(fs > 0.)\n",
        "    N = len(ts)\n",
        "    X = np.ones_like(ts)\n",
        "    for f in fs:\n",
        "        X = np.vstack([np.exp(-2.j * np.pi * f * ts), X, np.exp(2.j * np.pi * f * ts)])\n",
        "    return X.T\n",
        "\n",
        "def hogg_traditional_fit(ts, ys, fs):\n",
        "    X = _hogg_design_matrix(fs, ts)\n",
        "    return np.linalg.solve(X.T @ X, X.T @ ys)\n",
        "\n",
        "def hogg_traditional_synthesize(fs, Zs, ts):\n",
        "    return _hogg_design_matrix(fs, ts) @ Zs"
      ],
      "metadata": {
        "id": "wHZ_PQapqlhy"
      },
      "execution_count": null,
      "outputs": []
    },
    {
      "cell_type": "code",
      "source": [
        "# This block of code defines a pure pseudo-inverse of the nufft1d3() function.\n",
        "\n",
        "FEPS, ATOL, BTOL = 1.e-6, 1.e-6, 1.e-6 # made up\n",
        "\n",
        "def nufft1d3_pinv(x, c, s):\n",
        "    \"\"\"\n",
        "    The pseudo-inverse of `nufft1d3()`.\n",
        "\n",
        "    ## Notes:\n",
        "\n",
        "    ## Bugs:\n",
        "    - Based on experimental coding.\n",
        "    \"\"\"\n",
        "    M = len(x)\n",
        "    N = len(s)\n",
        "    R = lambda f: finufft.nufft1d3(s, f, x, eps=FEPS)\n",
        "    RT = lambda c: finufft.nufft1d3(x, c, s, eps=FEPS, isign=-1)\n",
        "    f0 = RT(c)\n",
        "    RR = sp.LinearOperator((M, N), matvec=R, rmatvec=RT, dtype=np.complex128)\n",
        "    res = sp.lsqr(RR, c, x0=f0, atol=ATOL, btol=BTOL)\n",
        "    print(\"nufft1d3_pinv(): completed in\", res[2], \"iterations\")\n",
        "    return res[0]"
      ],
      "metadata": {
        "id": "DpbtVgoXi9oj"
      },
      "execution_count": null,
      "outputs": []
    },
    {
      "cell_type": "code",
      "source": [
        "# This set of functions wraps the finufft pseudo-inverse into a more useful\n",
        "# fitting code.\n",
        "\n",
        "def _hogg_delta_omega(ts):\n",
        "    \"\"\"\n",
        "    ## Bugs:\n",
        "    - Doesn't have a proper code header.\n",
        "    \"\"\"\n",
        "    Nt = len(ts)\n",
        "    assert ts.shape == (Nt, )\n",
        "    return 2. * np.pi * (Nt / (Nt + 1)) / (max(ts) - min(ts))\n",
        "\n",
        "def _hogg_make_frequency_list(fs, Delta_omega):\n",
        "    \"\"\"\n",
        "    ## Bugs:\n",
        "    - Doesn't have a proper code header.\n",
        "    \"\"\"\n",
        "    assert np.all(fs > 0.)\n",
        "    return 2. * np.pi * np.concatenate([-1. * np.flip(fs), [0., ], fs]) / Delta_omega\n",
        "\n",
        "def hogg_finufft_fit(ts, ys, fs, Delta_omega=None, t_offset=None):\n",
        "    \"\"\"\n",
        "    ## Inputs:\n",
        "    - `ts`: the times of the `N` points\n",
        "    - `ys`: the values at the `N` times\n",
        "    - `fs`: the `K` frequencies in play; all should be strictly positive\n",
        "    - `Delta_omega`: use with care\n",
        "    - `t_offset`: use with care\n",
        "\n",
        "    ## Bugs / issues:\n",
        "    - Don't mess with `Delta_omega` and `offset` unless under good supervision.\n",
        "    - May barf if some frequencies get very high??\n",
        "    - This makes decisions \"for\" the user.\n",
        "    - Output Zs have really weird units, people.\n",
        "    - Doesn't have a proper code header.\n",
        "    \"\"\"\n",
        "    N = len(ts)\n",
        "    assert ts.shape == ys.shape\n",
        "    # choose a sensible conversion of `ts` to dimensionless positions `xs`.\n",
        "    if t_offset is None:\n",
        "        t_offset = np.nanmedian(ts)\n",
        "    if Delta_omega is None:\n",
        "        Delta_omega = _hogg_delta_omega(ts)\n",
        "    xs = Delta_omega * (ts - t_offset)\n",
        "    assert (max(xs) - min(xs)) < 2. * np.pi\n",
        "    # convert input frequencies `fs` to dimensionless frequencies (signals) `ss`.\n",
        "    ss = _hogg_make_frequency_list(fs, Delta_omega)\n",
        "    # run `finufft` pseudo-inverse.\n",
        "    Zs = nufft1d3_pinv(xs, np.complex128(ys), ss)\n",
        "    # convert output to frequency units.\n",
        "    return Zs\n",
        "\n",
        "def hogg_finufft_synthesize(fs, Zs, ts, Delta_omega=None, t_offset=None):\n",
        "    \"\"\"\n",
        "    ## Inputs:\n",
        "    - `fs`: frequencies; must be strictly positive\n",
        "    - `Zs`: complex amplitudes\n",
        "    - `ts`: time locations of points\n",
        "    - `Delta_omega`:\n",
        "    - `t_offset`:\n",
        "\n",
        "    ## Bugs:\n",
        "    - Don't mess with `Delta_omega` and `t_offset` unless under good supervision.\n",
        "    - Incomplete comment header.\n",
        "    \"\"\"\n",
        "    if Delta_omega is None:\n",
        "        Delta_omega = _hogg_delta_omega(ts)\n",
        "    if t_offset is None:\n",
        "        t_offset = np.nanmedian(ts)\n",
        "    xs = Delta_omega * (ts - t_offset)\n",
        "    ss = _hogg_make_frequency_list(fs, Delta_omega)\n",
        "    assert ss.shape == Zs.shape\n",
        "    return finufft.nufft1d3(ss, Zs, xs)"
      ],
      "metadata": {
        "id": "0TWnfsXnkBkd"
      },
      "execution_count": null,
      "outputs": []
    },
    {
      "cell_type": "code",
      "source": [
        "# make some fake data\n",
        "rng = np.random.default_rng(17)\n",
        "ts = np.sort(1.6 * rng.uniform(size=512))\n",
        "truefs = np.array([1.5, 3.99, 11.])\n",
        "trueZs = np.array([0.06, 0.03, 0.01])\n",
        "ys = 1. + 0.0 * ts\n",
        "for Z,f in zip(trueZs, truefs):\n",
        "    ys += Z * np.cos(2. * np.pi * f * ts)\n",
        "ys += 0.01 * np.random.normal(size=len(ys))\n",
        "plt.plot(ts, ys, \"k.\")"
      ],
      "metadata": {
        "id": "5mJYHQz5qLm9"
      },
      "execution_count": null,
      "outputs": []
    },
    {
      "cell_type": "code",
      "source": [
        "Zs = hogg_finufft_fit(ts, ys, truefs)\n",
        "print(Zs)"
      ],
      "metadata": {
        "id": "WpetIuG5qcw1"
      },
      "execution_count": null,
      "outputs": []
    },
    {
      "cell_type": "code",
      "source": [
        "# This reconstructs the synthesized data from the fit output.\n",
        "synth_ys = hogg_finufft_synthesize(truefs, Zs, ts)\n",
        "print(synth_ys.shape)"
      ],
      "metadata": {
        "id": "ez-5vYXl8KGT"
      },
      "execution_count": null,
      "outputs": []
    },
    {
      "cell_type": "code",
      "source": [
        "# This makes more synthesized data from the fit and plots it.\n",
        "T = np.max(ts) - np.min(ts)\n",
        "plot_ts = np.arange(np.min(ts) - 0.05 * T, np.max(ts) + 0.05 * T, 0.001 * T)\n",
        "plot_ys = hogg_finufft_synthesize(truefs, Zs, plot_ts,\n",
        "                               Delta_omega=_hogg_delta_omega(ts),\n",
        "                               t_offset=np.nanmedian(ts))\n",
        "plt.plot(plot_ts, plot_ys, \"r-\")\n",
        "plt.plot(ts, ys, \"k.\")"
      ],
      "metadata": {
        "id": "iStXzTRftSpi"
      },
      "execution_count": null,
      "outputs": []
    },
    {
      "cell_type": "code",
      "source": [
        "tZs = hogg_traditional_fit(ts, ys, truefs)\n",
        "print(tZs)"
      ],
      "metadata": {
        "id": "pKGyDxvKBTFu"
      },
      "execution_count": null,
      "outputs": []
    },
    {
      "cell_type": "code",
      "source": [
        "# This makes more synthesized data from the fit and plots it.\n",
        "tplot_ys = hogg_traditional_synthesize(truefs, tZs, plot_ts)\n",
        "plt.plot(plot_ts, tplot_ys, \"r-\")\n",
        "plt.plot(ts, ys, \"k.\")"
      ],
      "metadata": {
        "id": "sP8zbVmmBa_b"
      },
      "execution_count": null,
      "outputs": []
    },
    {
      "cell_type": "code",
      "source": [],
      "metadata": {
        "id": "y8qabuJOB940"
      },
      "execution_count": null,
      "outputs": []
    }
  ]
}