{
 "cells": [
  {
   "cell_type": "code",
   "execution_count": null,
   "id": "e7bbbc96",
   "metadata": {},
   "outputs": [],
   "source": [
    "%matplotlib inline\n",
    "\n",
    "import matplotlib.pyplot as plt\n",
    "import numpy as np\n",
    "import lightkurve as lk \n",
    "import pandas as pd"
   ]
  },
  {
   "cell_type": "code",
   "execution_count": null,
   "id": "974ff5d4",
   "metadata": {},
   "outputs": [],
   "source": [
    "search_result = lk.search_lightcurve('KIC 10963065',\n",
    "                                     cadence='short',\n",
    "                                     author='Kepler',\n",
    "                                     quarter=(2,5,6,7))\n",
    "\n",
    "\n",
    "lc = search_result.download_all().stitch()"
   ]
  },
  {
   "cell_type": "code",
   "execution_count": null,
   "id": "6b23ffb0",
   "metadata": {},
   "outputs": [],
   "source": [
    "pg = lc.to_periodogram(normalization='psd',\n",
    "                       minimum_frequency=1500,\n",
    "                       maximum_frequency=2700)\n",
    "ax = pg.plot();"
   ]
  },
  {
   "cell_type": "code",
   "execution_count": null,
   "id": "98530e8a",
   "metadata": {},
   "outputs": [],
   "source": [
    "search_result_TESS = lk.search_lightcurve('TIC 48450369',\n",
    "                                     cadence='short',\n",
    "                                     author='SPOC',\n",
    "                                     sector = [40,41])\n",
    "\n",
    "\n",
    "lc_TESS = search_result_TESS.download_all().stitch()"
   ]
  },
  {
   "cell_type": "code",
   "execution_count": null,
   "id": "1e1a587b",
   "metadata": {},
   "outputs": [],
   "source": [
    "search_result_TESS"
   ]
  },
  {
   "cell_type": "code",
   "execution_count": null,
   "id": "31d12245",
   "metadata": {},
   "outputs": [],
   "source": [
    "pg_TESS = lc_TESS.to_periodogram(normalization='psd',\n",
    "                       minimum_frequency=1500,\n",
    "                       maximum_frequency=2700)\n",
    "ax = pg_TESS.plot();"
   ]
  },
  {
   "cell_type": "code",
   "execution_count": null,
   "id": "64f3995f",
   "metadata": {},
   "outputs": [],
   "source": [
    "lc_TESS.plot()"
   ]
  },
  {
   "cell_type": "code",
   "execution_count": null,
   "id": "220ff652",
   "metadata": {},
   "outputs": [],
   "source": [
    "dict_tess = {\"time\":lc_TESS.time.value, \"flux\":lc_TESS.flux.value, \"ferr\":lc_TESS.flux_err.value}\n",
    "\n",
    "\n",
    "dict_kepler = {\"time\":lc.time.value, \"flux\":lc.flux.value, \"ferr\":lc.flux_err.value}\n",
    "\n"
   ]
  },
  {
   "cell_type": "code",
   "execution_count": null,
   "id": "8ae73561",
   "metadata": {},
   "outputs": [],
   "source": [
    "tess_df = pd.DataFrame(dict_tess)\n",
    "kepler_df = pd.DataFrame(dict_kepler)\n",
    "\n",
    "tess_df.to_hdf(\"/Users/neisner/Desktop/tess_data_TIC48450369.h5\", key='df', complevel = 9)\n",
    "kepler_df.to_hdf(\"/Users/neisner/Desktop/kepler_data_TIC48450369.h5\", key='df', complevel = 9)\n",
    "\n"
   ]
  }
 ],
 "metadata": {
  "kernelspec": {
   "display_name": "Python 3 (ipykernel)",
   "language": "python",
   "name": "python3"
  },
  "language_info": {
   "codemirror_mode": {
    "name": "ipython",
    "version": 3
   },
   "file_extension": ".py",
   "mimetype": "text/x-python",
   "name": "python",
   "nbconvert_exporter": "python",
   "pygments_lexer": "ipython3",
   "version": "3.9.12"
  }
 },
 "nbformat": 4,
 "nbformat_minor": 5
}
