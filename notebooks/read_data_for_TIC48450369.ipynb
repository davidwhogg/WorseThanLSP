{
 "cells": [
  {
   "cell_type": "code",
   "execution_count": null,
   "id": "c5861e1e",
   "metadata": {},
   "outputs": [],
   "source": [
    "%matplotlib inline\n",
    "\n",
    "import matplotlib.pyplot as plt\n",
    "import numpy as np\n",
    "import lightkurve as lk \n",
    "import pandas as pd"
   ]
  },
  {
   "cell_type": "code",
   "execution_count": null,
   "id": "80c11eec",
   "metadata": {},
   "outputs": [],
   "source": [
    "df_tess = pd.read_hdf(\"/Users/neisner/Desktop/tess_data_TIC48450369.h5\")\n",
    "df_kepler = pd.read_hdf(\"/Users/neisner/Desktop/kepler_data_TIC48450369.h5\")"
   ]
  },
  {
   "cell_type": "code",
   "execution_count": null,
   "id": "88721b21",
   "metadata": {},
   "outputs": [],
   "source": [
    "fig, ax = plt.subplots(figsize = (14,7))\n",
    "\n",
    "plt.scatter(df_tess.time, df_tess.flux, s = 1)\n",
    "\n",
    "plt.title(\"TESS\")\n",
    "plt.xlabel(\"Time (BJD - 2457000)\")\n",
    "plt.ylabel(\"Normalized flux\")\n",
    "plt.show()"
   ]
  },
  {
   "cell_type": "code",
   "execution_count": null,
   "id": "1ba29e15",
   "metadata": {},
   "outputs": [],
   "source": [
    "fig, ax = plt.subplots(figsize = (14,7))\n",
    "\n",
    "plt.scatter(df_kepler.time, df_kepler.flux, s = 1)\n",
    "\n",
    "plt.title(\"Kepler\")\n",
    "plt.xlabel(\"Time (BJD - 2454833)\")\n",
    "plt.ylabel(\"Normalized flux\")\n",
    "plt.show()"
   ]
  }
 ],
 "metadata": {
  "kernelspec": {
   "display_name": "Python 3 (ipykernel)",
   "language": "python",
   "name": "python3"
  },
  "language_info": {
   "codemirror_mode": {
    "name": "ipython",
    "version": 3
   },
   "file_extension": ".py",
   "mimetype": "text/x-python",
   "name": "python",
   "nbconvert_exporter": "python",
   "pygments_lexer": "ipython3",
   "version": "3.9.12"
  }
 },
 "nbformat": 4,
 "nbformat_minor": 5
}
