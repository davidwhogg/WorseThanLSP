{
  "nbformat": 4,
  "nbformat_minor": 0,
  "metadata": {
    "colab": {
      "provenance": [],
      "authorship_tag": "ABX9TyN/QWOs8PFK6Fq0OsYJlK+f",
      "include_colab_link": true
    },
    "kernelspec": {
      "name": "python3",
      "display_name": "Python 3"
    },
    "language_info": {
      "name": "python"
    }
  },
  "cells": [
    {
      "cell_type": "markdown",
      "metadata": {
        "id": "view-in-github",
        "colab_type": "text"
      },
      "source": [
        "<a href=\"https://colab.research.google.com/github/davidwhogg/WorseThanLSP/blob/main/notebooks/data_gaps_and_LSP.ipynb\" target=\"_parent\"><img src=\"https://colab.research.google.com/assets/colab-badge.svg\" alt=\"Open In Colab\"/></a>"
      ]
    },
    {
      "cell_type": "code",
      "execution_count": null,
      "metadata": {
        "id": "TKhfbeOXbut1"
      },
      "outputs": [],
      "source": [
        "import numpy as np\n",
        "import pylab as plt\n",
        "from astropy.timeseries import LombScargle"
      ]
    },
    {
      "cell_type": "code",
      "source": [
        "times_gap = np.loadtxt(\"../data/TIC55525572_yr3.txt\")"
      ],
      "metadata": {
        "id": "AB3_THPRg9M2"
      },
      "execution_count": null,
      "outputs": []
    },
    {
      "cell_type": "code",
      "source": [
        "times = np.arange(np.min(times_gap), np.max(times_gap), (2. / 60.) / 24.)\n",
        "times += ((8. / 60.) / 24.) * np.cos(2. * np.pi * times / 365.25) # barycentric!\n",
        "f0 = 1. / 21.4456\n",
        "f1 = 1. / 2.44347\n",
        "\n",
        "def make_fluxes(ts):\n",
        "    fs = 1.0 \\\n",
        "       + 0.01 * np.cos(2. * np.pi * f0 * ts) \\\n",
        "       + 0.003 * np.cos(2. * np.pi * f1 * ts)\n",
        "    fs += 0.03 * np.random.normal(size=len(ts))\n",
        "    return fs\n",
        "fluxes_gap = make_fluxes(times_gap)\n",
        "fluxes =     make_fluxes(times)"
      ],
      "metadata": {
        "id": "s71CYH50b9Bl"
      },
      "execution_count": null,
      "outputs": []
    },
    {
      "cell_type": "code",
      "source": [
        "print(len(fluxes), len(fluxes_gap))"
      ],
      "metadata": {
        "id": "WQNKPAW3jpRj"
      },
      "execution_count": null,
      "outputs": []
    },
    {
      "cell_type": "code",
      "source": [
        "plt.plot(times_gap, fluxes_gap, \"b.\", alpha=0.5, ms=0.5)"
      ],
      "metadata": {
        "id": "TDLQbJkCcyYN"
      },
      "execution_count": null,
      "outputs": []
    },
    {
      "cell_type": "code",
      "source": [
        "plt.plot(times, fluxes, \"r.\", alpha=0.5, ms=0.5)"
      ],
      "metadata": {
        "id": "Y-DKLvPweLxC"
      },
      "execution_count": null,
      "outputs": []
    },
    {
      "cell_type": "code",
      "source": [
        "q, y = LombScargle(times, fluxes).autopower()"
      ],
      "metadata": {
        "id": "7yfrfqO0c_Uq"
      },
      "execution_count": null,
      "outputs": []
    },
    {
      "cell_type": "code",
      "source": [
        "q_gap, y_gap = LombScargle(times_gap, fluxes_gap).autopower()"
      ],
      "metadata": {
        "id": "xquqghkdeQ5m"
      },
      "execution_count": null,
      "outputs": []
    },
    {
      "cell_type": "code",
      "source": [
        "plt.axvline(f0, color=\"red\", lw=0.5, alpha=0.5)\n",
        "plt.axvline(f1, color=\"red\", lw=0.5, alpha=0.5)\n",
        "plt.plot(q_gap, y_gap, \"b-\", alpha=0.5)\n",
        "plt.plot(q, y, \"r-\", alpha=0.5)\n",
        "plt.xlim(0., 1.)\n",
        "plt.ylim(1e-6, 1.)\n",
        "plt.semilogy()"
      ],
      "metadata": {
        "id": "VnYbcauPeZq4"
      },
      "execution_count": null,
      "outputs": []
    },
    {
      "cell_type": "code",
      "source": [],
      "metadata": {
        "id": "tNVr_ILPef1u"
      },
      "execution_count": null,
      "outputs": []
    }
  ]
}